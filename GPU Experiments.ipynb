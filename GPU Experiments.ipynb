{
 "cells": [
  {
   "cell_type": "code",
   "execution_count": 21,
   "id": "b921f023-4220-48f4-9b8c-8da496edfb14",
   "metadata": {},
   "outputs": [],
   "source": [
    "import numpy as np\n",
    "import pickle\n",
    "import torch\n",
    "import timeit\n",
    "from tqdm.autonotebook import trange"
   ]
  },
  {
   "cell_type": "code",
   "execution_count": 2,
   "id": "edafee8f-4903-4104-85ed-152e7c341a99",
   "metadata": {},
   "outputs": [],
   "source": [
    "#The mechanisms are presorted so path finding is not needed here, Also the time needed for path finding is minimal in comparison to the actual solution.\n",
    "file = open(\"10KM.pkl\", 'rb')\n",
    "data = pickle.load(file)\n",
    "file.close()"
   ]
  },
  {
   "cell_type": "code",
   "execution_count": 3,
   "id": "0af4dc7a-d34a-423a-a691-65e03a4d489f",
   "metadata": {
    "tags": []
   },
   "outputs": [],
   "source": [
    "def preprocess_data(data):\n",
    "    Cs = np.zeros([len(data[0]),20,20])\n",
    "    nt = np.zeros([len(data[0]),20])\n",
    "    x0s = np.zeros([len(data[0]),20,2])\n",
    "    \n",
    "    for i in range(len(data[0])):\n",
    "        C = np.array(data[0][i])\n",
    "        x0 = np.array(data[1][i])\n",
    "        fn = data[2][i]\n",
    "        Cs[i,0:C.shape[0],0:C.shape[0]] = C\n",
    "        x0s[i,0:C.shape[0],:] = x0\n",
    "        nt[i,fn] = 1\n",
    "        nt[i,C.shape[0]:] = 1\n",
    "        \n",
    "    return Cs,np.expand_dims(nt,-1),x0s"
   ]
  },
  {
   "cell_type": "code",
   "execution_count": 4,
   "id": "6dfbb7de-c414-4835-a33a-55d7c755de21",
   "metadata": {},
   "outputs": [],
   "source": [
    "As,node_types,x0s = preprocess_data(data)"
   ]
  },
  {
   "cell_type": "code",
   "execution_count": 8,
   "id": "8ae67e33-78dc-4871-a869-3a0d32bcda72",
   "metadata": {},
   "outputs": [],
   "source": [
    "def solve_rev_vectorized_batch(As,x0s,node_types,thetas):\n",
    "    \n",
    "    Gs = torch.cdist(x0s,x0s)\n",
    "    \n",
    "    x = torch.zeros([x0s.shape[0],x0s.shape[1],thetas.shape[0],2]).to('cuda')\n",
    "    \n",
    "    x = x + torch.unsqueeze(node_types * x0s,2)\n",
    "    \n",
    "    m = x[:,0] + torch.tile(torch.unsqueeze(torch.transpose(torch.cat([torch.unsqueeze(torch.cos(thetas),0),torch.unsqueeze(torch.sin(thetas),0)],0),0,1),0),[x0s.shape[0],1,1]) * torch.unsqueeze(torch.unsqueeze(Gs[:,0,1],-1),-1)\n",
    "    \n",
    "    x[:,1,:,:] = m\n",
    "    \n",
    "    for k in range(3,x0s.shape[1]):\n",
    "        \n",
    "        inds = torch.argsort(As[:,k,0:k])[:,-2:]\n",
    "        \n",
    "        l_ijs = torch.linalg.norm(x[np.arange(x0s.shape[0]),inds[:,0]] - x[np.arange(x0s.shape[0]),inds[:,1]], dim=-1)\n",
    "        \n",
    "        gik = torch.unsqueeze(Gs[np.arange(x0s.shape[0]),inds[:,0],np.ones(shape=[x0s.shape[0]])*k],-1)\n",
    "        gjk = torch.unsqueeze(Gs[np.arange(x0s.shape[0]),inds[:,1],np.ones(shape=[x0s.shape[0]])*k],-1)\n",
    "        \n",
    "        cosphis = (torch.square(l_ijs) + torch.square(gik) - torch.square(gjk))/(2 * l_ijs * gik)\n",
    "        \n",
    "        cosphis = torch.where(torch.tile(node_types[:,k],[1,thetas.shape[0]])==0.0,cosphis,torch.zeros_like(cosphis))\n",
    "                             \n",
    "        x0i1 = x0s[np.arange(x0s.shape[0]),inds[:,0],np.ones(shape=[x0s.shape[0]]).astype(np.int32)]\n",
    "        x0i0 = x0s[np.arange(x0s.shape[0]),inds[:,0],np.zeros(shape=[x0s.shape[0]]).astype(np.int32)]\n",
    "        \n",
    "        x0j1 = x0s[np.arange(x0s.shape[0]),inds[:,1],np.ones(shape=[x0s.shape[0]]).astype(np.int32)]\n",
    "        x0j0 = x0s[np.arange(x0s.shape[0]),inds[:,1],np.zeros(shape=[x0s.shape[0]]).astype(np.int32)]\n",
    "        \n",
    "        x0k1 = x0s[:,k,1]\n",
    "        x0k0 = x0s[:,k,0]\n",
    "        \n",
    "        s = torch.unsqueeze(torch.sign((x0i1-x0k1)*(x0i0-x0j0) - (x0i1-x0j1)*(x0i0-x0k0)),-1)\n",
    "        \n",
    "\n",
    "        phi = s * torch.arccos(cosphis)\n",
    "        \n",
    "        a = torch.permute(torch.cat([torch.unsqueeze(torch.cos(phi),0),torch.unsqueeze(-torch.sin(phi),0)],0),dims=[1,2,0])\n",
    "        b = torch.permute(torch.cat([torch.unsqueeze(torch.sin(phi),0),torch.unsqueeze(torch.cos(phi),0)],0),dims=[1,2,0])\n",
    "\n",
    "        R = torch.einsum(\"ijk...->jki...\", torch.cat([torch.unsqueeze(a,0),torch.unsqueeze(b,0)],0))\n",
    "        \n",
    "        xi = x[np.arange(x0s.shape[0]),inds[:,0]]\n",
    "        xj = x[np.arange(x0s.shape[0]),inds[:,1]]\n",
    "        \n",
    "        scaled_ij = (xj-xi)/torch.unsqueeze(l_ijs,-1) * torch.unsqueeze(gik,-1)\n",
    "        \n",
    "        x_k = torch.squeeze(torch.matmul(R, torch.unsqueeze(scaled_ij,-1))) + xi\n",
    "        x_k = torch.where(torch.tile(torch.unsqueeze(node_types[:,k],-1),[1,thetas.shape[0],2])==0.0,x_k,torch.zeros_like(x_k))\n",
    "        x[:,k,:,:] += x_k\n",
    "    return x"
   ]
  },
  {
   "cell_type": "code",
   "execution_count": 9,
   "id": "10d5bc4d-89bc-4c60-9688-1b9c1c0b26f8",
   "metadata": {},
   "outputs": [],
   "source": [
    "As = torch.Tensor(As).to('cuda')\n",
    "node_types = torch.Tensor(node_types).to('cuda')\n",
    "x0s = torch.Tensor(x0s).to('cuda')\n",
    "thetas = torch.Tensor(np.linspace(0,np.pi*2,201)[0:200]).to('cuda')"
   ]
  },
  {
   "cell_type": "code",
   "execution_count": 24,
   "id": "9ba0e181-3d48-48e7-86ec-19335ec3597b",
   "metadata": {},
   "outputs": [
    {
     "data": {
      "application/vnd.jupyter.widget-view+json": {
       "model_id": "7906a71693bf41fc8c254c3d30fd9bb6",
       "version_major": 2,
       "version_minor": 0
      },
      "text/plain": [
       "  0%|          | 0/100 [00:00<?, ?it/s]"
      ]
     },
     "metadata": {},
     "output_type": "display_data"
    }
   ],
   "source": [
    "timer = trange(100)\n",
    "for i in timer:\n",
    "    solve_rev_vectorized_batch(As,x0s,node_types,thetas)"
   ]
  },
  {
   "cell_type": "code",
   "execution_count": 28,
   "id": "c90bd97c-d7f5-4e4c-938c-4852c1f75a6b",
   "metadata": {},
   "outputs": [
    {
     "data": {
      "text/plain": [
       "0.11235209151374764"
      ]
     },
     "execution_count": 28,
     "metadata": {},
     "output_type": "execute_result"
    }
   ],
   "source": [
    "1/timer.format_dict['rate']"
   ]
  },
  {
   "cell_type": "code",
   "execution_count": null,
   "id": "d8772f27-2370-4754-8594-c03abfc5f942",
   "metadata": {},
   "outputs": [],
   "source": []
  }
 ],
 "metadata": {
  "kernelspec": {
   "display_name": "Python 3 (ipykernel)",
   "language": "python",
   "name": "python3"
  },
  "language_info": {
   "codemirror_mode": {
    "name": "ipython",
    "version": 3
   },
   "file_extension": ".py",
   "mimetype": "text/x-python",
   "name": "python",
   "nbconvert_exporter": "python",
   "pygments_lexer": "ipython3",
   "version": "3.9.12"
  }
 },
 "nbformat": 4,
 "nbformat_minor": 5
}
